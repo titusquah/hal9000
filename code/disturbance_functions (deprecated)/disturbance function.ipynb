{
 "cells": [
  {
   "cell_type": "code",
   "execution_count": 90,
   "metadata": {},
   "outputs": [],
   "source": [
    "import numpy as np\n",
    "import matplotlib.pyplot as plt\n",
    "%matplotlib inline"
   ]
  },
  {
   "cell_type": "code",
   "execution_count": 1,
   "metadata": {},
   "outputs": [
    {
     "name": "stdout",
     "output_type": "stream",
     "text": [
      "[0.8  0.8  0.76 0.76 0.72 0.68 0.72 0.76 0.76 0.8  0.84 0.84 0.84 0.88\n",
      " 0.88 0.88 0.88 0.92 0.92 0.92 0.92 0.92 0.88 0.88 0.88 0.84 0.8  0.8\n",
      " 0.8  0.84 0.84 0.88 0.92 0.92 0.96 0.96 0.96 0.96 1.   1.   1.   0.96\n",
      " 0.96 0.96 0.96 0.92 0.92 0.88 0.84 0.84 0.84 0.8  0.8  0.76 0.76 0.76\n",
      " 0.76 0.8  0.8  0.8  0.84 0.84 0.84 0.84 0.84 0.84 0.8  0.8  0.8  0.84\n",
      " 0.84 0.84 0.84 0.84 0.84 0.8  0.8  0.8  0.8  0.8  0.8  0.76 0.76 0.72\n",
      " 0.72 0.72 0.76 0.8  0.8  0.84 0.84 0.88 0.88 0.88 0.88 0.84 0.84 0.8\n",
      " 0.84 0.8  0.76]\n"
     ]
    },
    {
     "data": {
      "image/png": "[encoded data removed]",
      "text/plain": [
       "<Figure size 432x288 with 1 Axes>"
      ]
     },
     "metadata": {
      "needs_background": "light"
     },
     "output_type": "display_data"
    }
   ],
   "source": [
    "\n",
    "# Python code for 1-D random walk. \n",
    "import random \n",
    "import numpy as np \n",
    "import matplotlib.pyplot as plt \n",
    "  \n",
    "# Probability to move up or down \n",
    "prob = [0.2, 0.8]   \n",
    "  \n",
    "# statically defining the starting position \n",
    "start = 20\n",
    "positions = [start] \n",
    "  \n",
    "# creating the random points \n",
    "rr = np.random.default_rng(123).random(100) \n",
    "downp = rr < prob[0] \n",
    "upp = rr > prob[1] \n",
    "  \n",
    "  \n",
    "for idownp, iupp in zip(downp, upp): \n",
    "    down = idownp and positions[-1] > 0\n",
    "    up = iupp and positions[-1] < 100\n",
    "    positions.append(positions[-1] - down + up) \n",
    "    \n",
    "n_pos = positions/max(positions)\n",
    "print(n_pos)\n",
    "# plotting down the graph of the random walk in 1D \n",
    "plt.plot(n_pos)\n",
    "plt.grid()\n",
    "plt.show() \n"
   ]
  },
  {
   "cell_type": "code",
   "execution_count": null,
   "metadata": {},
   "outputs": [],
   "source": []
  },
  {
   "cell_type": "code",
   "execution_count": null,
   "metadata": {},
   "outputs": [],
   "source": []
  }
 ],
 "metadata": {
  "kernelspec": {
   "display_name": "Python 3",
   "language": "python",
   "name": "python3"
  },
  "language_info": {
   "codemirror_mode": {
    "name": "ipython",
    "version": 3
   },
   "file_extension": ".py",
   "mimetype": "text/x-python",
   "name": "python",
   "nbconvert_exporter": "python",
   "pygments_lexer": "ipython3",
   "version": "3.7.4"
  }
 },
 "nbformat": 4,
 "nbformat_minor": 4
}
